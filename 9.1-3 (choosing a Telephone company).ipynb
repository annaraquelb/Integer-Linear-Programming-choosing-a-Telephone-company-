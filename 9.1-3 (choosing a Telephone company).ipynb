{
 "cells": [
  {
   "cell_type": "markdown",
   "id": "fb770b1f",
   "metadata": {},
   "source": [
    "# example 9.1-3  Operations Research An Introduction by Hamdy A. Taha JOBCO\n",
    "\n",
    "\" I have been approached by three telephone companies to subscribe to their long-distance service in the United States. MaBell will charge a flat $ 16 per month plus $0.25 a minute.\n",
    "PaBell will charge $ 25 a month but will reduce the per-minute cost to $0.21. As for BabyBell, the flat monthly charge is $ 18, and the cost per min is $0.22. I usually make an average of 200 minutes of long-distance calls a month. Assuming that I do not pay the flat monthly fee unless I make calls and that I can apportion my calls among all three companies as I please, how should I use the three companies to minimize my monthly telephone bill? \""
   ]
  },
  {
   "cell_type": "code",
   "execution_count": 1,
   "id": "6dac58a5",
   "metadata": {},
   "outputs": [],
   "source": [
    "from pulp import*\n",
    "import pandas as pd"
   ]
  },
  {
   "cell_type": "code",
   "execution_count": 4,
   "id": "60cf9187",
   "metadata": {},
   "outputs": [
    {
     "name": "stdout",
     "output_type": "stream",
     "text": [
      "Status: Optimal\n",
      "babybell = 200 \tReduced Costs =  None\n",
      "babybelly = 1 \tReduced Costs =  None\n",
      "mabel = 0 \tReduced Costs =  None\n",
      "mabely = 0 \tReduced Costs =  None\n",
      "pabel = 0 \tReduced Costs =  None\n",
      "pabely = 0 \tReduced Costs =  None\n",
      "  name Shadow Price Slack\n",
      "0  _C1         None  None\n",
      "1  _C2         None  None\n",
      "2  _C3         None  None\n",
      "3  _C4         None  None\n"
     ]
    }
   ],
   "source": [
    "\n",
    "\n",
    "prob = LpProblem(\"Iventory_Problem\", LpMinimize)\n",
    "x1 = LpVariable(\"mabel\", 0, cat = 'Integer')\n",
    "x2 = LpVariable(\"pabel\", 0, cat = 'Integer')\n",
    "x3 = LpVariable(\"babybell\", 0, cat = 'Integer')\n",
    "y1 = LpVariable(\"mabely\", 0, cat = 'Binary')\n",
    "y2 = LpVariable(\"pabely\", 0, cat = 'Binary')\n",
    "y3 = LpVariable(\"babybelly\", 0, cat = 'Binary')\n",
    "\n",
    "prob += 16*y1 + 0.25*x1  + 25*y2+ 0.21*x2 + 18*y3 + 0.22*x3, \" objective\"\n",
    "prob += x1 + x2+ x3  == 200\n",
    "prob += x1<= 200*y1\n",
    "prob += x2 <= 200*y2\n",
    "prob += x3 <= 200*y3\n",
    "\n",
    "prob.writeLP(\"MixedProgramming.lp\")\n",
    "prob.solve(GLPK(options=['--ranges sensit1.sen']))\n",
    "print(\"Status:\", LpStatus[prob.status]) ##solution status\n",
    "\n",
    "\n",
    "for v in prob.variables():\n",
    "    print(v.name, \"=\", v.varValue, \"\\tReduced Costs = \", v.dj)\n",
    "    \n",
    "s=[{'name': name, 'Shadow Price': c.pi, \"Slack\": c.slack} for name, c in prob.constraints.items()] ## sensitivit analysis\n",
    "print(pd.DataFrame(s))\n"
   ]
  }
 ],
 "metadata": {
  "kernelspec": {
   "display_name": "Python 3",
   "language": "python",
   "name": "python3"
  },
  "language_info": {
   "codemirror_mode": {
    "name": "ipython",
    "version": 3
   },
   "file_extension": ".py",
   "mimetype": "text/x-python",
   "name": "python",
   "nbconvert_exporter": "python",
   "pygments_lexer": "ipython3",
   "version": "3.8.8"
  }
 },
 "nbformat": 4,
 "nbformat_minor": 5
}
